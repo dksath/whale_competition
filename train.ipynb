{
 "cells": [
  {
   "cell_type": "markdown",
   "metadata": {},
   "source": [
    "<span style=\"color: #000508; font-family: Segoe UI; font-size: 1.2em; font-weight: 300;\"><strong>Update:</strong></span><br>\n",
    "<span style=\"color: #000508; font-family: Segoe UI; font-size: 1.2em; font-weight: 300;\">V3: Added Embedding layer between GeM pooling and ArcFace Module. Improves results</span>"
   ]
  },
  {
   "cell_type": "code",
   "execution_count": 2,
   "metadata": {
    "_kg_hide-output": true,
    "execution": {
     "iopub.execute_input": "2022-02-21T20:21:39.214096Z",
     "iopub.status.busy": "2022-02-21T20:21:39.213413Z",
     "iopub.status.idle": "2022-02-21T20:22:00.337781Z",
     "shell.execute_reply": "2022-02-21T20:22:00.336940Z",
     "shell.execute_reply.started": "2022-02-21T20:21:39.213980Z"
    }
   },
   "outputs": [
    {
     "name": "stdout",
     "output_type": "stream",
     "text": [
      "Requirement already satisfied: timm in c:\\users\\dksat\\.virtualenvs\\whale-m_9ugpqk\\lib\\site-packages (0.5.4)\n",
      "Requirement already satisfied: torchvision in c:\\users\\dksat\\.virtualenvs\\whale-m_9ugpqk\\lib\\site-packages (from timm) (0.12.0)\n",
      "Requirement already satisfied: torch>=1.4 in c:\\users\\dksat\\.virtualenvs\\whale-m_9ugpqk\\lib\\site-packages (from timm) (1.11.0)\n",
      "Requirement already satisfied: typing-extensions in c:\\users\\dksat\\.virtualenvs\\whale-m_9ugpqk\\lib\\site-packages (from torch>=1.4->timm) (4.1.1)\n",
      "Requirement already satisfied: numpy in c:\\users\\dksat\\.virtualenvs\\whale-m_9ugpqk\\lib\\site-packages (from torchvision->timm) (1.22.3)\n",
      "Requirement already satisfied: pillow!=8.3.*,>=5.3.0 in c:\\users\\dksat\\.virtualenvs\\whale-m_9ugpqk\\lib\\site-packages (from torchvision->timm) (9.0.1)\n",
      "Requirement already satisfied: requests in c:\\users\\dksat\\.virtualenvs\\whale-m_9ugpqk\\lib\\site-packages (from torchvision->timm) (2.27.1)\n",
      "Requirement already satisfied: certifi>=2017.4.17 in c:\\users\\dksat\\.virtualenvs\\whale-m_9ugpqk\\lib\\site-packages (from requests->torchvision->timm) (2021.10.8)\n",
      "Requirement already satisfied: charset-normalizer~=2.0.0 in c:\\users\\dksat\\.virtualenvs\\whale-m_9ugpqk\\lib\\site-packages (from requests->torchvision->timm) (2.0.12)\n",
      "Requirement already satisfied: idna<4,>=2.5 in c:\\users\\dksat\\.virtualenvs\\whale-m_9ugpqk\\lib\\site-packages (from requests->torchvision->timm) (3.3)\n",
      "Requirement already satisfied: urllib3<1.27,>=1.21.1 in c:\\users\\dksat\\.virtualenvs\\whale-m_9ugpqk\\lib\\site-packages (from requests->torchvision->timm) (1.26.9)\n",
      "Requirement already satisfied: wandb in c:\\users\\dksat\\.virtualenvs\\whale-m_9ugpqk\\lib\\site-packages (0.12.11)\n",
      "Requirement already satisfied: sentry-sdk>=1.0.0 in c:\\users\\dksat\\.virtualenvs\\whale-m_9ugpqk\\lib\\site-packages (from wandb) (1.5.8)\n",
      "Requirement already satisfied: yaspin>=1.0.0 in c:\\users\\dksat\\.virtualenvs\\whale-m_9ugpqk\\lib\\site-packages (from wandb) (2.1.0)\n",
      "Requirement already satisfied: Click!=8.0.0,>=7.0 in c:\\users\\dksat\\.virtualenvs\\whale-m_9ugpqk\\lib\\site-packages (from wandb) (8.0.4)\n",
      "Requirement already satisfied: requests<3,>=2.0.0 in c:\\users\\dksat\\.virtualenvs\\whale-m_9ugpqk\\lib\\site-packages (from wandb) (2.27.1)\n",
      "Requirement already satisfied: docker-pycreds>=0.4.0 in c:\\users\\dksat\\.virtualenvs\\whale-m_9ugpqk\\lib\\site-packages (from wandb) (0.4.0)\n",
      "Requirement already satisfied: pathtools in c:\\users\\dksat\\.virtualenvs\\whale-m_9ugpqk\\lib\\site-packages (from wandb) (0.1.2)\n",
      "Requirement already satisfied: GitPython>=1.0.0 in c:\\users\\dksat\\.virtualenvs\\whale-m_9ugpqk\\lib\\site-packages (from wandb) (3.1.27)\n",
      "Requirement already satisfied: promise<3,>=2.0 in c:\\users\\dksat\\.virtualenvs\\whale-m_9ugpqk\\lib\\site-packages (from wandb) (2.3)\n",
      "Requirement already satisfied: setproctitle in c:\\users\\dksat\\.virtualenvs\\whale-m_9ugpqk\\lib\\site-packages (from wandb) (1.2.2)\n",
      "Requirement already satisfied: python-dateutil>=2.6.1 in c:\\users\\dksat\\.virtualenvs\\whale-m_9ugpqk\\lib\\site-packages (from wandb) (2.8.2)\n",
      "Requirement already satisfied: shortuuid>=0.5.0 in c:\\users\\dksat\\.virtualenvs\\whale-m_9ugpqk\\lib\\site-packages (from wandb) (1.0.8)\n",
      "Requirement already satisfied: psutil>=5.0.0 in c:\\users\\dksat\\.virtualenvs\\whale-m_9ugpqk\\lib\\site-packages (from wandb) (5.9.0)\n",
      "Requirement already satisfied: protobuf>=3.12.0 in c:\\users\\dksat\\.virtualenvs\\whale-m_9ugpqk\\lib\\site-packages (from wandb) (3.19.4)\n",
      "Requirement already satisfied: PyYAML in c:\\users\\dksat\\.virtualenvs\\whale-m_9ugpqk\\lib\\site-packages (from wandb) (6.0)\n",
      "Requirement already satisfied: six>=1.13.0 in c:\\users\\dksat\\.virtualenvs\\whale-m_9ugpqk\\lib\\site-packages (from wandb) (1.16.0)\n",
      "Requirement already satisfied: colorama in c:\\users\\dksat\\.virtualenvs\\whale-m_9ugpqk\\lib\\site-packages (from Click!=8.0.0,>=7.0->wandb) (0.4.4)\n",
      "Requirement already satisfied: gitdb<5,>=4.0.1 in c:\\users\\dksat\\.virtualenvs\\whale-m_9ugpqk\\lib\\site-packages (from GitPython>=1.0.0->wandb) (4.0.9)\n",
      "Requirement already satisfied: idna<4,>=2.5 in c:\\users\\dksat\\.virtualenvs\\whale-m_9ugpqk\\lib\\site-packages (from requests<3,>=2.0.0->wandb) (3.3)\n",
      "Requirement already satisfied: urllib3<1.27,>=1.21.1 in c:\\users\\dksat\\.virtualenvs\\whale-m_9ugpqk\\lib\\site-packages (from requests<3,>=2.0.0->wandb) (1.26.9)\n",
      "Requirement already satisfied: certifi>=2017.4.17 in c:\\users\\dksat\\.virtualenvs\\whale-m_9ugpqk\\lib\\site-packages (from requests<3,>=2.0.0->wandb) (2021.10.8)\n",
      "Requirement already satisfied: charset-normalizer~=2.0.0 in c:\\users\\dksat\\.virtualenvs\\whale-m_9ugpqk\\lib\\site-packages (from requests<3,>=2.0.0->wandb) (2.0.12)\n",
      "Requirement already satisfied: termcolor<2.0.0,>=1.1.0 in c:\\users\\dksat\\.virtualenvs\\whale-m_9ugpqk\\lib\\site-packages (from yaspin>=1.0.0->wandb) (1.1.0)\n",
      "Requirement already satisfied: smmap<6,>=3.0.1 in c:\\users\\dksat\\.virtualenvs\\whale-m_9ugpqk\\lib\\site-packages (from gitdb<5,>=4.0.1->GitPython>=1.0.0->wandb) (5.0.0)\n"
     ]
    }
   ],
   "source": [
    "#install libraries\n",
    "!pip install timm\n",
    "!pip install --upgrade wandb"
   ]
  },
  {
   "cell_type": "code",
   "execution_count": 3,
   "metadata": {},
   "outputs": [
    {
     "name": "stdout",
     "output_type": "stream",
     "text": [
      "Requirement already satisfied: opencv-python in c:\\users\\dksat\\.virtualenvs\\whale-m_9ugpqk\\lib\\site-packages (4.5.5.64)\n",
      "Requirement already satisfied: numpy>=1.19.3 in c:\\users\\dksat\\.virtualenvs\\whale-m_9ugpqk\\lib\\site-packages (from opencv-python) (1.22.3)\n",
      "Requirement already satisfied: pandas in c:\\users\\dksat\\.virtualenvs\\whale-m_9ugpqk\\lib\\site-packages (1.4.1)\n",
      "Requirement already satisfied: pytz>=2020.1 in c:\\users\\dksat\\.virtualenvs\\whale-m_9ugpqk\\lib\\site-packages (from pandas) (2022.1)\n",
      "Requirement already satisfied: python-dateutil>=2.8.1 in c:\\users\\dksat\\.virtualenvs\\whale-m_9ugpqk\\lib\\site-packages (from pandas) (2.8.2)\n",
      "Requirement already satisfied: numpy>=1.18.5 in c:\\users\\dksat\\.virtualenvs\\whale-m_9ugpqk\\lib\\site-packages (from pandas) (1.22.3)\n",
      "Requirement already satisfied: six>=1.5 in c:\\users\\dksat\\.virtualenvs\\whale-m_9ugpqk\\lib\\site-packages (from python-dateutil>=2.8.1->pandas) (1.16.0)\n",
      "Requirement already satisfied: joblib in c:\\users\\dksat\\.virtualenvs\\whale-m_9ugpqk\\lib\\site-packages (1.1.0)\n",
      "Requirement already satisfied: tqdm in c:\\users\\dksat\\.virtualenvs\\whale-m_9ugpqk\\lib\\site-packages (4.63.1)\n",
      "Requirement already satisfied: colorama in c:\\users\\dksat\\.virtualenvs\\whale-m_9ugpqk\\lib\\site-packages (from tqdm) (0.4.4)\n",
      "Requirement already satisfied: scikit-learn in c:\\users\\dksat\\.virtualenvs\\whale-m_9ugpqk\\lib\\site-packages (1.0.2)\n",
      "Requirement already satisfied: scipy>=1.1.0 in c:\\users\\dksat\\.virtualenvs\\whale-m_9ugpqk\\lib\\site-packages (from scikit-learn) (1.8.0)\n",
      "Requirement already satisfied: joblib>=0.11 in c:\\users\\dksat\\.virtualenvs\\whale-m_9ugpqk\\lib\\site-packages (from scikit-learn) (1.1.0)\n",
      "Requirement already satisfied: threadpoolctl>=2.0.0 in c:\\users\\dksat\\.virtualenvs\\whale-m_9ugpqk\\lib\\site-packages (from scikit-learn) (3.1.0)\n",
      "Requirement already satisfied: numpy>=1.14.6 in c:\\users\\dksat\\.virtualenvs\\whale-m_9ugpqk\\lib\\site-packages (from scikit-learn) (1.22.3)\n",
      "Requirement already satisfied: albumentations in c:\\users\\dksat\\.virtualenvs\\whale-m_9ugpqk\\lib\\site-packages (1.1.0)\n",
      "Requirement already satisfied: scikit-image>=0.16.1 in c:\\users\\dksat\\.virtualenvs\\whale-m_9ugpqk\\lib\\site-packages (from albumentations) (0.19.2)\n",
      "Requirement already satisfied: qudida>=0.0.4 in c:\\users\\dksat\\.virtualenvs\\whale-m_9ugpqk\\lib\\site-packages (from albumentations) (0.0.4)\n",
      "Requirement already satisfied: opencv-python-headless>=4.1.1 in c:\\users\\dksat\\.virtualenvs\\whale-m_9ugpqk\\lib\\site-packages (from albumentations) (4.5.5.64)\n",
      "Requirement already satisfied: PyYAML in c:\\users\\dksat\\.virtualenvs\\whale-m_9ugpqk\\lib\\site-packages (from albumentations) (6.0)\n",
      "Requirement already satisfied: numpy>=1.11.1 in c:\\users\\dksat\\.virtualenvs\\whale-m_9ugpqk\\lib\\site-packages (from albumentations) (1.22.3)\n",
      "Requirement already satisfied: scipy in c:\\users\\dksat\\.virtualenvs\\whale-m_9ugpqk\\lib\\site-packages (from albumentations) (1.8.0)\n",
      "Requirement already satisfied: scikit-learn>=0.19.1 in c:\\users\\dksat\\.virtualenvs\\whale-m_9ugpqk\\lib\\site-packages (from qudida>=0.0.4->albumentations) (1.0.2)\n",
      "Requirement already satisfied: typing-extensions in c:\\users\\dksat\\.virtualenvs\\whale-m_9ugpqk\\lib\\site-packages (from qudida>=0.0.4->albumentations) (4.1.1)\n",
      "Requirement already satisfied: tifffile>=2019.7.26 in c:\\users\\dksat\\.virtualenvs\\whale-m_9ugpqk\\lib\\site-packages (from scikit-image>=0.16.1->albumentations) (2022.3.25)\n",
      "Requirement already satisfied: networkx>=2.2 in c:\\users\\dksat\\.virtualenvs\\whale-m_9ugpqk\\lib\\site-packages (from scikit-image>=0.16.1->albumentations) (2.7.1)\n",
      "Requirement already satisfied: packaging>=20.0 in c:\\users\\dksat\\.virtualenvs\\whale-m_9ugpqk\\lib\\site-packages (from scikit-image>=0.16.1->albumentations) (21.3)\n",
      "Requirement already satisfied: PyWavelets>=1.1.1 in c:\\users\\dksat\\.virtualenvs\\whale-m_9ugpqk\\lib\\site-packages (from scikit-image>=0.16.1->albumentations) (1.3.0)\n",
      "Requirement already satisfied: imageio>=2.4.1 in c:\\users\\dksat\\.virtualenvs\\whale-m_9ugpqk\\lib\\site-packages (from scikit-image>=0.16.1->albumentations) (2.16.1)\n",
      "Requirement already satisfied: pillow!=7.1.0,!=7.1.1,!=8.3.0,>=6.1.0 in c:\\users\\dksat\\.virtualenvs\\whale-m_9ugpqk\\lib\\site-packages (from scikit-image>=0.16.1->albumentations) (9.0.1)\n",
      "Requirement already satisfied: pyparsing!=3.0.5,>=2.0.2 in c:\\users\\dksat\\.virtualenvs\\whale-m_9ugpqk\\lib\\site-packages (from packaging>=20.0->scikit-image>=0.16.1->albumentations) (3.0.7)\n",
      "Requirement already satisfied: joblib>=0.11 in c:\\users\\dksat\\.virtualenvs\\whale-m_9ugpqk\\lib\\site-packages (from scikit-learn>=0.19.1->qudida>=0.0.4->albumentations) (1.1.0)\n",
      "Requirement already satisfied: threadpoolctl>=2.0.0 in c:\\users\\dksat\\.virtualenvs\\whale-m_9ugpqk\\lib\\site-packages (from scikit-learn>=0.19.1->qudida>=0.0.4->albumentations) (3.1.0)\n",
      "Requirement already satisfied: ipywidgets in c:\\users\\dksat\\.virtualenvs\\whale-m_9ugpqk\\lib\\site-packages (7.7.0)\n",
      "Requirement already satisfied: ipython-genutils~=0.2.0 in c:\\users\\dksat\\.virtualenvs\\whale-m_9ugpqk\\lib\\site-packages (from ipywidgets) (0.2.0)\n",
      "Requirement already satisfied: nbformat>=4.2.0 in c:\\users\\dksat\\.virtualenvs\\whale-m_9ugpqk\\lib\\site-packages (from ipywidgets) (5.2.0)\n",
      "Requirement already satisfied: ipykernel>=4.5.1 in c:\\users\\dksat\\.virtualenvs\\whale-m_9ugpqk\\lib\\site-packages (from ipywidgets) (6.10.0)\n",
      "Requirement already satisfied: ipython>=4.0.0 in c:\\users\\dksat\\.virtualenvs\\whale-m_9ugpqk\\lib\\site-packages (from ipywidgets) (8.2.0)\n",
      "Requirement already satisfied: widgetsnbextension~=3.6.0 in c:\\users\\dksat\\.virtualenvs\\whale-m_9ugpqk\\lib\\site-packages (from ipywidgets) (3.6.0)\n",
      "Requirement already satisfied: traitlets>=4.3.1 in c:\\users\\dksat\\.virtualenvs\\whale-m_9ugpqk\\lib\\site-packages (from ipywidgets) (5.1.1)\n",
      "Requirement already satisfied: jupyterlab-widgets>=1.0.0 in c:\\users\\dksat\\.virtualenvs\\whale-m_9ugpqk\\lib\\site-packages (from ipywidgets) (1.1.0)\n",
      "Requirement already satisfied: tornado<7.0,>=5.0 in c:\\users\\dksat\\.virtualenvs\\whale-m_9ugpqk\\lib\\site-packages (from ipykernel>=4.5.1->ipywidgets) (6.1)\n",
      "Requirement already satisfied: nest-asyncio in c:\\users\\dksat\\.virtualenvs\\whale-m_9ugpqk\\lib\\site-packages (from ipykernel>=4.5.1->ipywidgets) (1.5.4)\n",
      "Requirement already satisfied: jupyter-client<8.0 in c:\\users\\dksat\\.virtualenvs\\whale-m_9ugpqk\\lib\\site-packages (from ipykernel>=4.5.1->ipywidgets) (7.1.2)\n",
      "Requirement already satisfied: debugpy<2.0,>=1.0.0 in c:\\users\\dksat\\.virtualenvs\\whale-m_9ugpqk\\lib\\site-packages (from ipykernel>=4.5.1->ipywidgets) (1.6.0)\n",
      "Requirement already satisfied: matplotlib-inline<0.2.0,>=0.1.0 in c:\\users\\dksat\\.virtualenvs\\whale-m_9ugpqk\\lib\\site-packages (from ipykernel>=4.5.1->ipywidgets) (0.1.3)\n",
      "Requirement already satisfied: psutil in c:\\users\\dksat\\.virtualenvs\\whale-m_9ugpqk\\lib\\site-packages (from ipykernel>=4.5.1->ipywidgets) (5.9.0)\n",
      "Requirement already satisfied: pickleshare in c:\\users\\dksat\\.virtualenvs\\whale-m_9ugpqk\\lib\\site-packages (from ipython>=4.0.0->ipywidgets) (0.7.5)\n",
      "Requirement already satisfied: colorama in c:\\users\\dksat\\.virtualenvs\\whale-m_9ugpqk\\lib\\site-packages (from ipython>=4.0.0->ipywidgets) (0.4.4)\n",
      "Requirement already satisfied: setuptools>=18.5 in c:\\users\\dksat\\.virtualenvs\\whale-m_9ugpqk\\lib\\site-packages (from ipython>=4.0.0->ipywidgets) (60.9.3)\n",
      "Requirement already satisfied: decorator in c:\\users\\dksat\\.virtualenvs\\whale-m_9ugpqk\\lib\\site-packages (from ipython>=4.0.0->ipywidgets) (5.1.1)\n",
      "Requirement already satisfied: prompt-toolkit!=3.0.0,!=3.0.1,<3.1.0,>=2.0.0 in c:\\users\\dksat\\.virtualenvs\\whale-m_9ugpqk\\lib\\site-packages (from ipython>=4.0.0->ipywidgets) (3.0.28)\n",
      "Requirement already satisfied: pygments>=2.4.0 in c:\\users\\dksat\\.virtualenvs\\whale-m_9ugpqk\\lib\\site-packages (from ipython>=4.0.0->ipywidgets) (2.11.2)\n",
      "Requirement already satisfied: backcall in c:\\users\\dksat\\.virtualenvs\\whale-m_9ugpqk\\lib\\site-packages (from ipython>=4.0.0->ipywidgets) (0.2.0)\n",
      "Requirement already satisfied: jedi>=0.16 in c:\\users\\dksat\\.virtualenvs\\whale-m_9ugpqk\\lib\\site-packages (from ipython>=4.0.0->ipywidgets) (0.18.1)\n",
      "Requirement already satisfied: stack-data in c:\\users\\dksat\\.virtualenvs\\whale-m_9ugpqk\\lib\\site-packages (from ipython>=4.0.0->ipywidgets) (0.2.0)\n",
      "Requirement already satisfied: jupyter-core in c:\\users\\dksat\\.virtualenvs\\whale-m_9ugpqk\\lib\\site-packages (from nbformat>=4.2.0->ipywidgets) (4.9.2)\n",
      "Requirement already satisfied: jsonschema!=2.5.0,>=2.4 in c:\\users\\dksat\\.virtualenvs\\whale-m_9ugpqk\\lib\\site-packages (from nbformat>=4.2.0->ipywidgets) (4.4.0)\n",
      "Requirement already satisfied: notebook>=4.4.1 in c:\\users\\dksat\\.virtualenvs\\whale-m_9ugpqk\\lib\\site-packages (from widgetsnbextension~=3.6.0->ipywidgets) (6.4.10)\n",
      "Requirement already satisfied: parso<0.9.0,>=0.8.0 in c:\\users\\dksat\\.virtualenvs\\whale-m_9ugpqk\\lib\\site-packages (from jedi>=0.16->ipython>=4.0.0->ipywidgets) (0.8.3)\n",
      "Requirement already satisfied: pyrsistent!=0.17.0,!=0.17.1,!=0.17.2,>=0.14.0 in c:\\users\\dksat\\.virtualenvs\\whale-m_9ugpqk\\lib\\site-packages (from jsonschema!=2.5.0,>=2.4->nbformat>=4.2.0->ipywidgets) (0.18.1)\n",
      "Requirement already satisfied: attrs>=17.4.0 in c:\\users\\dksat\\.virtualenvs\\whale-m_9ugpqk\\lib\\site-packages (from jsonschema!=2.5.0,>=2.4->nbformat>=4.2.0->ipywidgets) (21.4.0)\n",
      "Requirement already satisfied: entrypoints in c:\\users\\dksat\\.virtualenvs\\whale-m_9ugpqk\\lib\\site-packages (from jupyter-client<8.0->ipykernel>=4.5.1->ipywidgets) (0.4)\n",
      "Requirement already satisfied: pyzmq>=13 in c:\\users\\dksat\\.virtualenvs\\whale-m_9ugpqk\\lib\\site-packages (from jupyter-client<8.0->ipykernel>=4.5.1->ipywidgets) (22.3.0)\n",
      "Requirement already satisfied: python-dateutil>=2.1 in c:\\users\\dksat\\.virtualenvs\\whale-m_9ugpqk\\lib\\site-packages (from jupyter-client<8.0->ipykernel>=4.5.1->ipywidgets) (2.8.2)\n",
      "Requirement already satisfied: pywin32>=1.0 in c:\\users\\dksat\\.virtualenvs\\whale-m_9ugpqk\\lib\\site-packages (from jupyter-core->nbformat>=4.2.0->ipywidgets) (303)\n",
      "Requirement already satisfied: nbconvert>=5 in c:\\users\\dksat\\.virtualenvs\\whale-m_9ugpqk\\lib\\site-packages (from notebook>=4.4.1->widgetsnbextension~=3.6.0->ipywidgets) (6.4.5)\n",
      "Requirement already satisfied: Send2Trash>=1.8.0 in c:\\users\\dksat\\.virtualenvs\\whale-m_9ugpqk\\lib\\site-packages (from notebook>=4.4.1->widgetsnbextension~=3.6.0->ipywidgets) (1.8.0)\n",
      "Requirement already satisfied: prometheus-client in c:\\users\\dksat\\.virtualenvs\\whale-m_9ugpqk\\lib\\site-packages (from notebook>=4.4.1->widgetsnbextension~=3.6.0->ipywidgets) (0.13.1)\n",
      "Requirement already satisfied: terminado>=0.8.3 in c:\\users\\dksat\\.virtualenvs\\whale-m_9ugpqk\\lib\\site-packages (from notebook>=4.4.1->widgetsnbextension~=3.6.0->ipywidgets) (0.13.3)\n",
      "Requirement already satisfied: jinja2 in c:\\users\\dksat\\.virtualenvs\\whale-m_9ugpqk\\lib\\site-packages (from notebook>=4.4.1->widgetsnbextension~=3.6.0->ipywidgets) (3.1.1)\n",
      "Requirement already satisfied: argon2-cffi in c:\\users\\dksat\\.virtualenvs\\whale-m_9ugpqk\\lib\\site-packages (from notebook>=4.4.1->widgetsnbextension~=3.6.0->ipywidgets) (21.3.0)\n",
      "Requirement already satisfied: wcwidth in c:\\users\\dksat\\.virtualenvs\\whale-m_9ugpqk\\lib\\site-packages (from prompt-toolkit!=3.0.0,!=3.0.1,<3.1.0,>=2.0.0->ipython>=4.0.0->ipywidgets) (0.2.5)\n",
      "Requirement already satisfied: pure-eval in c:\\users\\dksat\\.virtualenvs\\whale-m_9ugpqk\\lib\\site-packages (from stack-data->ipython>=4.0.0->ipywidgets) (0.2.2)\n",
      "Requirement already satisfied: executing in c:\\users\\dksat\\.virtualenvs\\whale-m_9ugpqk\\lib\\site-packages (from stack-data->ipython>=4.0.0->ipywidgets) (0.8.3)\n",
      "Requirement already satisfied: asttokens in c:\\users\\dksat\\.virtualenvs\\whale-m_9ugpqk\\lib\\site-packages (from stack-data->ipython>=4.0.0->ipywidgets) (2.0.5)\n",
      "Requirement already satisfied: nbclient<0.6.0,>=0.5.0 in c:\\users\\dksat\\.virtualenvs\\whale-m_9ugpqk\\lib\\site-packages (from nbconvert>=5->notebook>=4.4.1->widgetsnbextension~=3.6.0->ipywidgets) (0.5.13)\n",
      "Requirement already satisfied: mistune<2,>=0.8.1 in c:\\users\\dksat\\.virtualenvs\\whale-m_9ugpqk\\lib\\site-packages (from nbconvert>=5->notebook>=4.4.1->widgetsnbextension~=3.6.0->ipywidgets) (0.8.4)\n",
      "Requirement already satisfied: bleach in c:\\users\\dksat\\.virtualenvs\\whale-m_9ugpqk\\lib\\site-packages (from nbconvert>=5->notebook>=4.4.1->widgetsnbextension~=3.6.0->ipywidgets) (4.1.0)\n",
      "Requirement already satisfied: defusedxml in c:\\users\\dksat\\.virtualenvs\\whale-m_9ugpqk\\lib\\site-packages (from nbconvert>=5->notebook>=4.4.1->widgetsnbextension~=3.6.0->ipywidgets) (0.7.1)\n",
      "Requirement already satisfied: testpath in c:\\users\\dksat\\.virtualenvs\\whale-m_9ugpqk\\lib\\site-packages (from nbconvert>=5->notebook>=4.4.1->widgetsnbextension~=3.6.0->ipywidgets) (0.6.0)\n",
      "Requirement already satisfied: MarkupSafe>=2.0 in c:\\users\\dksat\\.virtualenvs\\whale-m_9ugpqk\\lib\\site-packages (from nbconvert>=5->notebook>=4.4.1->widgetsnbextension~=3.6.0->ipywidgets) (2.1.1)\n",
      "Requirement already satisfied: pandocfilters>=1.4.1 in c:\\users\\dksat\\.virtualenvs\\whale-m_9ugpqk\\lib\\site-packages (from nbconvert>=5->notebook>=4.4.1->widgetsnbextension~=3.6.0->ipywidgets) (1.5.0)\n",
      "Requirement already satisfied: jupyterlab-pygments in c:\\users\\dksat\\.virtualenvs\\whale-m_9ugpqk\\lib\\site-packages (from nbconvert>=5->notebook>=4.4.1->widgetsnbextension~=3.6.0->ipywidgets) (0.1.2)\n",
      "Requirement already satisfied: beautifulsoup4 in c:\\users\\dksat\\.virtualenvs\\whale-m_9ugpqk\\lib\\site-packages (from nbconvert>=5->notebook>=4.4.1->widgetsnbextension~=3.6.0->ipywidgets) (4.10.0)\n",
      "Requirement already satisfied: six>=1.5 in c:\\users\\dksat\\.virtualenvs\\whale-m_9ugpqk\\lib\\site-packages (from python-dateutil>=2.1->jupyter-client<8.0->ipykernel>=4.5.1->ipywidgets) (1.16.0)\n",
      "Requirement already satisfied: pywinpty>=1.1.0 in c:\\users\\dksat\\.virtualenvs\\whale-m_9ugpqk\\lib\\site-packages (from terminado>=0.8.3->notebook>=4.4.1->widgetsnbextension~=3.6.0->ipywidgets) (2.0.5)\n",
      "Requirement already satisfied: argon2-cffi-bindings in c:\\users\\dksat\\.virtualenvs\\whale-m_9ugpqk\\lib\\site-packages (from argon2-cffi->notebook>=4.4.1->widgetsnbextension~=3.6.0->ipywidgets) (21.2.0)\n",
      "Requirement already satisfied: cffi>=1.0.1 in c:\\users\\dksat\\.virtualenvs\\whale-m_9ugpqk\\lib\\site-packages (from argon2-cffi-bindings->argon2-cffi->notebook>=4.4.1->widgetsnbextension~=3.6.0->ipywidgets) (1.15.0)\n",
      "Requirement already satisfied: soupsieve>1.2 in c:\\users\\dksat\\.virtualenvs\\whale-m_9ugpqk\\lib\\site-packages (from beautifulsoup4->nbconvert>=5->notebook>=4.4.1->widgetsnbextension~=3.6.0->ipywidgets) (2.3.1)\n",
      "Requirement already satisfied: packaging in c:\\users\\dksat\\.virtualenvs\\whale-m_9ugpqk\\lib\\site-packages (from bleach->nbconvert>=5->notebook>=4.4.1->widgetsnbextension~=3.6.0->ipywidgets) (21.3)\n",
      "Requirement already satisfied: webencodings in c:\\users\\dksat\\.virtualenvs\\whale-m_9ugpqk\\lib\\site-packages (from bleach->nbconvert>=5->notebook>=4.4.1->widgetsnbextension~=3.6.0->ipywidgets) (0.5.1)\n",
      "Requirement already satisfied: pycparser in c:\\users\\dksat\\.virtualenvs\\whale-m_9ugpqk\\lib\\site-packages (from cffi>=1.0.1->argon2-cffi-bindings->argon2-cffi->notebook>=4.4.1->widgetsnbextension~=3.6.0->ipywidgets) (2.21)\n",
      "Requirement already satisfied: pyparsing!=3.0.5,>=2.0.2 in c:\\users\\dksat\\.virtualenvs\\whale-m_9ugpqk\\lib\\site-packages (from packaging->bleach->nbconvert>=5->notebook>=4.4.1->widgetsnbextension~=3.6.0->ipywidgets) (3.0.7)\n"
     ]
    }
   ],
   "source": [
    "!pip install opencv-python\n",
    "!pip install pandas\n",
    "!pip install joblib\n",
    "!pip install tqdm\n",
    "!pip install -U scikit-learn\n",
    "!pip install albumentations\n",
    "!pip install ipywidgets"
   ]
  },
  {
   "cell_type": "markdown",
   "metadata": {},
   "source": [
    "# Import Required Libraries "
   ]
  },
  {
   "cell_type": "code",
   "execution_count": 10,
   "metadata": {
    "execution": {
     "iopub.execute_input": "2022-02-21T20:22:00.341575Z",
     "iopub.status.busy": "2022-02-21T20:22:00.341352Z",
     "iopub.status.idle": "2022-02-21T20:22:04.359171Z",
     "shell.execute_reply": "2022-02-21T20:22:04.358285Z",
     "shell.execute_reply.started": "2022-02-21T20:22:00.341545Z"
    }
   },
   "outputs": [],
   "source": [
    "import os\n",
    "import gc\n",
    "import cv2\n",
    "import math\n",
    "import copy\n",
    "import time\n",
    "import random\n",
    "\n",
    "# For data manipulation\n",
    "import numpy as np\n",
    "import pandas as pd\n",
    "\n",
    "# Pytorch Imports\n",
    "import torch as torch\n",
    "import torch.nn as nn\n",
    "import torch.optim as optim\n",
    "import torch.nn.functional as F\n",
    "from torch.optim import lr_scheduler\n",
    "from torch.utils.data import Dataset, DataLoader\n",
    "from torch.cuda import amp\n",
    "\n",
    "# Utils\n",
    "import joblib\n",
    "from tqdm import tqdm\n",
    "from collections import defaultdict\n",
    "\n",
    "# Sklearn Imports\n",
    "from sklearn.preprocessing import LabelEncoder\n",
    "from sklearn.model_selection import StratifiedKFold\n",
    "\n",
    "# For Image Models\n",
    "import timm\n",
    "\n",
    "# Albumentations for augmentations\n",
    "import albumentations as A\n",
    "from albumentations.pytorch import ToTensorV2\n",
    "\n",
    "# For colored terminal text\n",
    "from colorama import Fore, Back, Style\n",
    "b_ = Fore.BLUE\n",
    "sr_ = Style.RESET_ALL\n",
    "\n",
    "import warnings\n",
    "warnings.filterwarnings(\"ignore\")\n",
    "\n",
    "# For descriptive error messages\n",
    "os.environ['CUDA_LAUNCH_BLOCKING'] = \"1\""
   ]
  },
  {
   "cell_type": "markdown",
   "metadata": {},
   "source": [
    "<img src=\"https://i.imgur.com/gb6B4ig.png\" width=\"400\" alt=\"Weights & Biases\" />\n",
    "\n",
    "<span style=\"color: #000508; font-family: Segoe UI; font-size: 1.2em; font-weight: 300;\"> Weights & Biases (W&B) is a set of machine learning tools that helps you build better models faster. <strong>Kaggle competitions require fast-paced model development and evaluation</strong>. There are a lot of components: exploring the training data, training different models, combining trained models in different combinations (ensembling), and so on.</span>\n",
    "\n",
    "> <span style=\"color: #000508; font-family: Segoe UI; font-size: 1.2em; font-weight: 300;\">⏳ Lots of components = Lots of places to go wrong = Lots of time spent debugging</span>\n",
    "\n",
    "<span style=\"color: #000508; font-family: Segoe UI; font-size: 1.2em; font-weight: 300;\">W&B can be useful for Kaggle competition with it's lightweight and interoperable tools:</span>\n",
    "\n",
    "* <span style=\"color: #000508; font-family: Segoe UI; font-size: 1.2em; font-weight: 300;\">Quickly track experiments,<br></span>\n",
    "* <span style=\"color: #000508; font-family: Segoe UI; font-size: 1.2em; font-weight: 300;\">Version and iterate on datasets, <br></span>\n",
    "* <span style=\"color: #000508; font-family: Segoe UI; font-size: 1.2em; font-weight: 300;\">Evaluate model performance,<br></span>\n",
    "* <span style=\"color: #000508; font-family: Segoe UI; font-size: 1.2em; font-weight: 300;\">Reproduce models,<br></span>\n",
    "* <span style=\"color: #000508; font-family: Segoe UI; font-size: 1.2em; font-weight: 300;\">Visualize results and spot regressions,<br></span>\n",
    "* <span style=\"color: #000508; font-family: Segoe UI; font-size: 1.2em; font-weight: 300;\">Share findings with colleagues.</span>\n",
    "\n",
    "<span style=\"color: #000508; font-family: Segoe UI; font-size: 1.2em; font-weight: 300;\">To learn more about Weights and Biases check out this <strong><a href=\"https://www.kaggle.com/ayuraj/experiment-tracking-with-weights-and-biases\">kernel</a></strong>.</span>"
   ]
  },
  {
   "cell_type": "code",
   "execution_count": 11,
   "metadata": {
    "execution": {
     "iopub.execute_input": "2022-02-21T20:22:04.361118Z",
     "iopub.status.busy": "2022-02-21T20:22:04.360854Z",
     "iopub.status.idle": "2022-02-21T20:22:06.281907Z",
     "shell.execute_reply": "2022-02-21T20:22:06.281084Z",
     "shell.execute_reply.started": "2022-02-21T20:22:04.361078Z"
    }
   },
   "outputs": [
    {
     "name": "stdout",
     "output_type": "stream",
     "text": [
      "If you want to use your W&B account, go to Add-ons -> Secrets and provide your W&B access token. Use the Label name as wandb_api. \n",
      "Get your W&B access token from here: https://wandb.ai/authorize\n"
     ]
    }
   ],
   "source": [
    "import wandb\n",
    "\n",
    "try:\n",
    "    from kaggle_secrets import UserSecretsClient\n",
    "    user_secrets = UserSecretsClient()\n",
    "    api_key = user_secrets.get_secret(\"wandb_api\")\n",
    "    wandb.login(key=api_key)\n",
    "    anony = None\n",
    "except:\n",
    "    anony = \"must\"\n",
    "    print('If you want to use your W&B account, go to Add-ons -> Secrets and provide your W&B access token. Use the Label name as wandb_api. \\nGet your W&B access token from here: https://wandb.ai/authorize')"
   ]
  },
  {
   "cell_type": "markdown",
   "metadata": {},
   "source": [
    "# <span><h1 style = \"font-family: garamond; font-size: 40px; font-style: normal; letter-spcaing: 3px; background-color: #f6f5f5; color :#fe346e; border-radius: 100px 100px; text-align:center\">Training Configuration ⚙️</h1></span>"
   ]
  },
  {
   "cell_type": "code",
   "execution_count": 12,
   "metadata": {
    "execution": {
     "iopub.execute_input": "2022-02-21T20:22:06.288878Z",
     "iopub.status.busy": "2022-02-21T20:22:06.287114Z",
     "iopub.status.idle": "2022-02-21T20:22:06.353668Z",
     "shell.execute_reply": "2022-02-21T20:22:06.352873Z",
     "shell.execute_reply.started": "2022-02-21T20:22:06.288840Z"
    }
   },
   "outputs": [],
   "source": [
    "CONFIG = {\"seed\": 2022,\n",
    "          \"epochs\": 4,\n",
    "          \"img_size\": 448,\n",
    "          \"model_name\": \"tf_efficientnet_b0_ns\",\n",
    "          \"num_classes\": 15587,\n",
    "          \"embedding_size\": 512,\n",
    "          \"train_batch_size\": 32,\n",
    "          \"valid_batch_size\": 64,\n",
    "          \"learning_rate\": 1e-4,\n",
    "          \"scheduler\": 'CosineAnnealingLR',\n",
    "          \"min_lr\": 1e-6,\n",
    "          \"T_max\": 500,\n",
    "          \"weight_decay\": 1e-6,\n",
    "          \"n_fold\": 5,\n",
    "          \"n_accumulate\": 1,\n",
    "          \"device\": torch.device(\"cuda:0\" if torch.cuda.is_available() else \"cpu\"),\n",
    "          # ArcFace Hyperparameters\n",
    "          \"s\": 30.0, \n",
    "          \"m\": 0.50,\n",
    "          \"ls_eps\": 0.0,\n",
    "          \"easy_margin\": False\n",
    "          }"
   ]
  },
  {
   "cell_type": "markdown",
   "metadata": {},
   "source": [
    "# <span><h1 style = \"font-family: garamond; font-size: 40px; font-style: normal; letter-spcaing: 3px; background-color: #f6f5f5; color :#fe346e; border-radius: 100px 100px; text-align:center\">Set Seed for Reproducibility</h1></span>"
   ]
  },
  {
   "cell_type": "code",
   "execution_count": 13,
   "metadata": {
    "execution": {
     "iopub.execute_input": "2022-02-21T20:22:06.360516Z",
     "iopub.status.busy": "2022-02-21T20:22:06.358726Z",
     "iopub.status.idle": "2022-02-21T20:22:06.373630Z",
     "shell.execute_reply": "2022-02-21T20:22:06.372961Z",
     "shell.execute_reply.started": "2022-02-21T20:22:06.360462Z"
    }
   },
   "outputs": [],
   "source": [
    "def set_seed(seed=42):\n",
    "    '''Sets the seed of the entire notebook so results are the same every time we run.\n",
    "    This is for REPRODUCIBILITY.'''\n",
    "    np.random.seed(seed)\n",
    "    torch.manual_seed(seed)\n",
    "    torch.cuda.manual_seed(seed)\n",
    "    # When running on the CuDNN backend, two further options must be set\n",
    "    torch.backends.cudnn.deterministic = True\n",
    "    torch.backends.cudnn.benchmark = False\n",
    "    # Set a fixed value for the hash seed\n",
    "    os.environ['PYTHONHASHSEED'] = str(seed)\n",
    "    \n",
    "set_seed(CONFIG['seed'])"
   ]
  },
  {
   "cell_type": "code",
   "execution_count": 25,
   "metadata": {
    "execution": {
     "iopub.execute_input": "2022-02-21T20:22:06.380184Z",
     "iopub.status.busy": "2022-02-21T20:22:06.378261Z",
     "iopub.status.idle": "2022-02-21T20:22:06.385942Z",
     "shell.execute_reply": "2022-02-21T20:22:06.385142Z",
     "shell.execute_reply.started": "2022-02-21T20:22:06.380147Z"
    }
   },
   "outputs": [],
   "source": [
    "ROOT_DIR = 'D:\\\\whale'\n",
    "TRAIN_DIR = 'D:\\\\whale-images\\\\train_images'\n",
    "TEST_DIR = 'D:\\\\whale-images\\\\test_images'"
   ]
  },
  {
   "cell_type": "code",
   "execution_count": 26,
   "metadata": {
    "execution": {
     "iopub.execute_input": "2022-02-21T20:22:06.393192Z",
     "iopub.status.busy": "2022-02-21T20:22:06.390455Z",
     "iopub.status.idle": "2022-02-21T20:22:06.398694Z",
     "shell.execute_reply": "2022-02-21T20:22:06.397811Z",
     "shell.execute_reply.started": "2022-02-21T20:22:06.393151Z"
    }
   },
   "outputs": [],
   "source": [
    "def get_train_file_path(id):\n",
    "    return f\"{TRAIN_DIR}\\\\{id}\""
   ]
  },
  {
   "cell_type": "markdown",
   "metadata": {},
   "source": [
    "# <h1 style = \"font-family: garamond; font-size: 40px; font-style: normal; letter-spcaing: 3px; background-color: #f6f5f5; color :#fe346e; border-radius: 100px 100px; text-align:center\">Read the Data 📖</h1>"
   ]
  },
  {
   "cell_type": "code",
   "execution_count": 28,
   "metadata": {
    "execution": {
     "iopub.execute_input": "2022-02-21T20:22:06.403311Z",
     "iopub.status.busy": "2022-02-21T20:22:06.402051Z",
     "iopub.status.idle": "2022-02-21T20:22:06.572543Z",
     "shell.execute_reply": "2022-02-21T20:22:06.571809Z",
     "shell.execute_reply.started": "2022-02-21T20:22:06.403271Z"
    }
   },
   "outputs": [
    {
     "data": {
      "text/html": [
       "<div>\n",
       "<style scoped>\n",
       "    .dataframe tbody tr th:only-of-type {\n",
       "        vertical-align: middle;\n",
       "    }\n",
       "\n",
       "    .dataframe tbody tr th {\n",
       "        vertical-align: top;\n",
       "    }\n",
       "\n",
       "    .dataframe thead th {\n",
       "        text-align: right;\n",
       "    }\n",
       "</style>\n",
       "<table border=\"1\" class=\"dataframe\">\n",
       "  <thead>\n",
       "    <tr style=\"text-align: right;\">\n",
       "      <th></th>\n",
       "      <th>image</th>\n",
       "      <th>species</th>\n",
       "      <th>individual_id</th>\n",
       "      <th>file_path</th>\n",
       "    </tr>\n",
       "  </thead>\n",
       "  <tbody>\n",
       "    <tr>\n",
       "      <th>0</th>\n",
       "      <td>00021adfb725ed.jpg</td>\n",
       "      <td>melon_headed_whale</td>\n",
       "      <td>cadddb1636b9</td>\n",
       "      <td>D:\\whale-images\\train_images\\00021adfb725ed.jpg</td>\n",
       "    </tr>\n",
       "    <tr>\n",
       "      <th>1</th>\n",
       "      <td>000562241d384d.jpg</td>\n",
       "      <td>humpback_whale</td>\n",
       "      <td>1a71fbb72250</td>\n",
       "      <td>D:\\whale-images\\train_images\\000562241d384d.jpg</td>\n",
       "    </tr>\n",
       "    <tr>\n",
       "      <th>2</th>\n",
       "      <td>0007c33415ce37.jpg</td>\n",
       "      <td>false_killer_whale</td>\n",
       "      <td>60008f293a2b</td>\n",
       "      <td>D:\\whale-images\\train_images\\0007c33415ce37.jpg</td>\n",
       "    </tr>\n",
       "    <tr>\n",
       "      <th>3</th>\n",
       "      <td>0007d9bca26a99.jpg</td>\n",
       "      <td>bottlenose_dolphin</td>\n",
       "      <td>4b00fe572063</td>\n",
       "      <td>D:\\whale-images\\train_images\\0007d9bca26a99.jpg</td>\n",
       "    </tr>\n",
       "    <tr>\n",
       "      <th>4</th>\n",
       "      <td>00087baf5cef7a.jpg</td>\n",
       "      <td>humpback_whale</td>\n",
       "      <td>8e5253662392</td>\n",
       "      <td>D:\\whale-images\\train_images\\00087baf5cef7a.jpg</td>\n",
       "    </tr>\n",
       "  </tbody>\n",
       "</table>\n",
       "</div>"
      ],
      "text/plain": [
       "                image             species individual_id  \\\n",
       "0  00021adfb725ed.jpg  melon_headed_whale  cadddb1636b9   \n",
       "1  000562241d384d.jpg      humpback_whale  1a71fbb72250   \n",
       "2  0007c33415ce37.jpg  false_killer_whale  60008f293a2b   \n",
       "3  0007d9bca26a99.jpg  bottlenose_dolphin  4b00fe572063   \n",
       "4  00087baf5cef7a.jpg      humpback_whale  8e5253662392   \n",
       "\n",
       "                                         file_path  \n",
       "0  D:\\whale-images\\train_images\\00021adfb725ed.jpg  \n",
       "1  D:\\whale-images\\train_images\\000562241d384d.jpg  \n",
       "2  D:\\whale-images\\train_images\\0007c33415ce37.jpg  \n",
       "3  D:\\whale-images\\train_images\\0007d9bca26a99.jpg  \n",
       "4  D:\\whale-images\\train_images\\00087baf5cef7a.jpg  "
      ]
     },
     "execution_count": 28,
     "metadata": {},
     "output_type": "execute_result"
    }
   ],
   "source": [
    "df = pd.read_csv(f\"{ROOT_DIR}\\\\train.csv\")\n",
    "df['file_path'] = df['image'].apply(get_train_file_path)\n",
    "df.head()"
   ]
  },
  {
   "cell_type": "code",
   "execution_count": 30,
   "metadata": {
    "execution": {
     "iopub.execute_input": "2022-02-21T20:22:06.579020Z",
     "iopub.status.busy": "2022-02-21T20:22:06.576862Z",
     "iopub.status.idle": "2022-02-21T20:22:06.628782Z",
     "shell.execute_reply": "2022-02-21T20:22:06.628100Z",
     "shell.execute_reply.started": "2022-02-21T20:22:06.578978Z"
    }
   },
   "outputs": [],
   "source": [
    "encoder = LabelEncoder()\n",
    "df['individual_id'] = encoder.fit_transform(df['individual_id'])\n",
    "\n",
    "with open(\"le.pkl\", \"wb\") as fp:\n",
    "    joblib.dump(encoder, fp)"
   ]
  },
  {
   "cell_type": "markdown",
   "metadata": {},
   "source": [
    "# <span><h1 style = \"font-family: garamond; font-size: 40px; font-style: normal; letter-spcaing: 3px; background-color: #f6f5f5; color :#fe346e; border-radius: 100px 100px; text-align:center\">Create Folds</h1></span>"
   ]
  },
  {
   "cell_type": "code",
   "execution_count": 31,
   "metadata": {
    "execution": {
     "iopub.execute_input": "2022-02-21T20:22:06.637156Z",
     "iopub.status.busy": "2022-02-21T20:22:06.635054Z",
     "iopub.status.idle": "2022-02-21T20:22:07.354390Z",
     "shell.execute_reply": "2022-02-21T20:22:07.353472Z",
     "shell.execute_reply.started": "2022-02-21T20:22:06.637118Z"
    }
   },
   "outputs": [],
   "source": [
    "skf = StratifiedKFold(n_splits=CONFIG['n_fold'])\n",
    "\n",
    "for fold, ( _, val_) in enumerate(skf.split(X=df, y=df.individual_id)):\n",
    "      df.loc[val_ , \"kfold\"] = fold"
   ]
  },
  {
   "cell_type": "markdown",
   "metadata": {},
   "source": [
    "# <span><h1 style = \"font-family: garamond; font-size: 40px; font-style: normal; letter-spcaing: 3px; background-color: #f6f5f5; color :#fe346e; border-radius: 100px 100px; text-align:center\">Dataset Class</h1></span>"
   ]
  },
  {
   "cell_type": "code",
   "execution_count": 32,
   "metadata": {
    "execution": {
     "iopub.execute_input": "2022-02-21T20:22:07.356230Z",
     "iopub.status.busy": "2022-02-21T20:22:07.355973Z",
     "iopub.status.idle": "2022-02-21T20:22:07.367164Z",
     "shell.execute_reply": "2022-02-21T20:22:07.366313Z",
     "shell.execute_reply.started": "2022-02-21T20:22:07.356195Z"
    }
   },
   "outputs": [],
   "source": [
    "class HappyWhaleDataset(Dataset):\n",
    "    def __init__(self, df, transforms=None):\n",
    "        self.df = df\n",
    "        self.file_names = df['file_path'].values\n",
    "        self.labels = df['individual_id'].values\n",
    "        self.transforms = transforms\n",
    "        \n",
    "    def __len__(self):\n",
    "        return len(self.df)\n",
    "    \n",
    "    def __getitem__(self, index):\n",
    "        img_path = self.file_names[index]\n",
    "        img = cv2.imread(img_path)\n",
    "        img = cv2.cvtColor(img, cv2.COLOR_BGR2RGB)\n",
    "        label = self.labels[index]\n",
    "        \n",
    "        if self.transforms:\n",
    "            img = self.transforms(image=img)[\"image\"]\n",
    "            \n",
    "        return {\n",
    "            'image': img,\n",
    "            'label': torch.tensor(label, dtype=torch.long)\n",
    "        }"
   ]
  },
  {
   "cell_type": "markdown",
   "metadata": {},
   "source": [
    "# <span><h1 style = \"font-family: garamond; font-size: 40px; font-style: normal; letter-spcaing: 3px; background-color: #f6f5f5; color :#fe346e; border-radius: 100px 100px; text-align:center\">Augmentations</h1></span>"
   ]
  },
  {
   "cell_type": "code",
   "execution_count": 33,
   "metadata": {
    "execution": {
     "iopub.execute_input": "2022-02-21T20:22:07.369181Z",
     "iopub.status.busy": "2022-02-21T20:22:07.368904Z",
     "iopub.status.idle": "2022-02-21T20:22:07.380879Z",
     "shell.execute_reply": "2022-02-21T20:22:07.380140Z",
     "shell.execute_reply.started": "2022-02-21T20:22:07.369146Z"
    }
   },
   "outputs": [],
   "source": [
    "data_transforms = {\n",
    "    \"train\": A.Compose([\n",
    "        A.Resize(CONFIG['img_size'], CONFIG['img_size']),\n",
    "        A.ShiftScaleRotate(shift_limit=0.1, \n",
    "                           scale_limit=0.15, \n",
    "                           rotate_limit=60, \n",
    "                           p=0.5),\n",
    "        A.HueSaturationValue(\n",
    "                hue_shift_limit=0.2, \n",
    "                sat_shift_limit=0.2, \n",
    "                val_shift_limit=0.2, \n",
    "                p=0.5\n",
    "            ),\n",
    "        A.RandomBrightnessContrast(\n",
    "                brightness_limit=(-0.1,0.1), \n",
    "                contrast_limit=(-0.1, 0.1), \n",
    "                p=0.5\n",
    "            ),\n",
    "        A.Normalize(\n",
    "                mean=[0.485, 0.456, 0.406], \n",
    "                std=[0.229, 0.224, 0.225], \n",
    "                max_pixel_value=255.0, \n",
    "                p=1.0\n",
    "            ),\n",
    "        ToTensorV2()], p=1.),\n",
    "    \n",
    "    \"valid\": A.Compose([\n",
    "        A.Resize(CONFIG['img_size'], CONFIG['img_size']),\n",
    "        A.Normalize(\n",
    "                mean=[0.485, 0.456, 0.406], \n",
    "                std=[0.229, 0.224, 0.225], \n",
    "                max_pixel_value=255.0, \n",
    "                p=1.0\n",
    "            ),\n",
    "        ToTensorV2()], p=1.)\n",
    "}"
   ]
  },
  {
   "cell_type": "markdown",
   "metadata": {},
   "source": [
    "# <span><h1 style = \"font-family: garamond; font-size: 40px; font-style: normal; letter-spcaing: 3px; background-color: #f6f5f5; color :#fe346e; border-radius: 100px 100px; text-align:center\">GeM Pooling</h1></span>\n",
    "\n",
    "<span style=\"color: #000508; font-family: Segoe UI; font-size: 1.5em; font-weight: 300;\">Code taken from <a href=\"https://amaarora.github.io/2020/08/30/gempool.html\">GeM Pooling Explained</a></span>\n",
    "\n",
    "![](https://i.imgur.com/thTgYWG.jpg)"
   ]
  },
  {
   "cell_type": "code",
   "execution_count": 34,
   "metadata": {
    "execution": {
     "iopub.execute_input": "2022-02-21T20:22:07.382605Z",
     "iopub.status.busy": "2022-02-21T20:22:07.382312Z",
     "iopub.status.idle": "2022-02-21T20:22:07.393609Z",
     "shell.execute_reply": "2022-02-21T20:22:07.392584Z",
     "shell.execute_reply.started": "2022-02-21T20:22:07.382570Z"
    }
   },
   "outputs": [],
   "source": [
    "class GeM(nn.Module):\n",
    "    def __init__(self, p=3, eps=1e-6):\n",
    "        super(GeM, self).__init__()\n",
    "        self.p = nn.Parameter(torch.ones(1)*p)\n",
    "        self.eps = eps\n",
    "\n",
    "    def forward(self, x):\n",
    "        return self.gem(x, p=self.p, eps=self.eps)\n",
    "        \n",
    "    def gem(self, x, p=3, eps=1e-6):\n",
    "        return F.avg_pool2d(x.clamp(min=eps).pow(p), (x.size(-2), x.size(-1))).pow(1./p)\n",
    "        \n",
    "    def __repr__(self):\n",
    "        return self.__class__.__name__ + \\\n",
    "                '(' + 'p=' + '{:.4f}'.format(self.p.data.tolist()[0]) + \\\n",
    "                ', ' + 'eps=' + str(self.eps) + ')'"
   ]
  },
  {
   "cell_type": "markdown",
   "metadata": {},
   "source": [
    "# <span><h1 style = \"font-family: garamond; font-size: 40px; font-style: normal; letter-spcaing: 3px; background-color: #f6f5f5; color :#fe346e; border-radius: 100px 100px; text-align:center\">ArcFace</h1></span>\n",
    "\n",
    "<span style=\"color: #000508; font-family: Segoe UI; font-size: 1.5em; font-weight: 300;\">Code taken from <a href=\"https://github.com/lyakaap/Landmark2019-1st-and-3rd-Place-Solution/blob/master/src/modeling/metric_learning.py\">Landmark2019-1st-and-3rd-Place-Solution</a></span>"
   ]
  },
  {
   "cell_type": "code",
   "execution_count": 35,
   "metadata": {
    "execution": {
     "iopub.execute_input": "2022-02-21T20:22:07.395906Z",
     "iopub.status.busy": "2022-02-21T20:22:07.395437Z",
     "iopub.status.idle": "2022-02-21T20:22:07.411072Z",
     "shell.execute_reply": "2022-02-21T20:22:07.410190Z",
     "shell.execute_reply.started": "2022-02-21T20:22:07.395870Z"
    }
   },
   "outputs": [],
   "source": [
    "class ArcMarginProduct(nn.Module):\n",
    "    r\"\"\"Implement of large margin arc distance: :\n",
    "        Args:\n",
    "            in_features: size of each input sample\n",
    "            out_features: size of each output sample\n",
    "            s: norm of input feature\n",
    "            m: margin\n",
    "            cos(theta + m)\n",
    "        \"\"\"\n",
    "    def __init__(self, in_features, out_features, s=30.0, \n",
    "                 m=0.50, easy_margin=False, ls_eps=0.0):\n",
    "        super(ArcMarginProduct, self).__init__()\n",
    "        self.in_features = in_features\n",
    "        self.out_features = out_features\n",
    "        self.s = s\n",
    "        self.m = m\n",
    "        self.ls_eps = ls_eps  # label smoothing\n",
    "        self.weight = nn.Parameter(torch.FloatTensor(out_features, in_features))\n",
    "        nn.init.xavier_uniform_(self.weight)\n",
    "\n",
    "        self.easy_margin = easy_margin\n",
    "        self.cos_m = math.cos(m)\n",
    "        self.sin_m = math.sin(m)\n",
    "        self.th = math.cos(math.pi - m)\n",
    "        self.mm = math.sin(math.pi - m) * m\n",
    "\n",
    "    def forward(self, input, label):\n",
    "        # --------------------------- cos(theta) & phi(theta) ---------------------\n",
    "        cosine = F.linear(F.normalize(input), F.normalize(self.weight))\n",
    "        sine = torch.sqrt(1.0 - torch.pow(cosine, 2))\n",
    "        phi = cosine * self.cos_m - sine * self.sin_m\n",
    "        if self.easy_margin:\n",
    "            phi = torch.where(cosine > 0, phi, cosine)\n",
    "        else:\n",
    "            phi = torch.where(cosine > self.th, phi, cosine - self.mm)\n",
    "        # --------------------------- convert label to one-hot ---------------------\n",
    "        # one_hot = torch.zeros(cosine.size(), requires_grad=True, device='cuda')\n",
    "        one_hot = torch.zeros(cosine.size(), device=CONFIG['device'])\n",
    "        one_hot.scatter_(1, label.view(-1, 1).long(), 1)\n",
    "        if self.ls_eps > 0:\n",
    "            one_hot = (1 - self.ls_eps) * one_hot + self.ls_eps / self.out_features\n",
    "        # -------------torch.where(out_i = {x_i if condition_i else y_i) ------------\n",
    "        output = (one_hot * phi) + ((1.0 - one_hot) * cosine)\n",
    "        output *= self.s\n",
    "\n",
    "        return output"
   ]
  },
  {
   "cell_type": "markdown",
   "metadata": {},
   "source": [
    "# <span><h1 style = \"font-family: garamond; font-size: 40px; font-style: normal; letter-spcaing: 3px; background-color: #f6f5f5; color :#fe346e; border-radius: 100px 100px; text-align:center\">Create Model</h1></span>"
   ]
  },
  {
   "cell_type": "code",
   "execution_count": 36,
   "metadata": {
    "execution": {
     "iopub.execute_input": "2022-02-21T20:22:07.412817Z",
     "iopub.status.busy": "2022-02-21T20:22:07.412546Z",
     "iopub.status.idle": "2022-02-21T20:22:11.925499Z",
     "shell.execute_reply": "2022-02-21T20:22:11.924754Z",
     "shell.execute_reply.started": "2022-02-21T20:22:07.412781Z"
    }
   },
   "outputs": [
    {
     "name": "stderr",
     "output_type": "stream",
     "text": [
      "Downloading: \"https://github.com/rwightman/pytorch-image-models/releases/download/v0.1-weights/tf_efficientnet_b0_ns-c0e6a31c.pth\" to C:\\Users\\dksat/.cache\\torch\\hub\\checkpoints\\tf_efficientnet_b0_ns-c0e6a31c.pth\n"
     ]
    }
   ],
   "source": [
    "class HappyWhaleModel(nn.Module):\n",
    "    def __init__(self, model_name, embedding_size, pretrained=True):\n",
    "        super(HappyWhaleModel, self).__init__()\n",
    "        self.model = timm.create_model(model_name, pretrained=pretrained)\n",
    "        in_features = self.model.classifier.in_features\n",
    "        self.model.classifier = nn.Identity()\n",
    "        self.model.global_pool = nn.Identity()\n",
    "        self.pooling = GeM()\n",
    "        self.embedding = nn.Linear(in_features, embedding_size)\n",
    "        self.fc = ArcMarginProduct(embedding_size, \n",
    "                                   CONFIG[\"num_classes\"],\n",
    "                                   s=CONFIG[\"s\"], \n",
    "                                   m=CONFIG[\"m\"], \n",
    "                                   easy_margin=CONFIG[\"ls_eps\"], \n",
    "                                   ls_eps=CONFIG[\"ls_eps\"])\n",
    "\n",
    "    def forward(self, images, labels):\n",
    "        features = self.model(images)\n",
    "        pooled_features = self.pooling(features).flatten(1)\n",
    "        embedding = self.embedding(pooled_features)\n",
    "        output = self.fc(embedding, labels)\n",
    "        return output\n",
    "    \n",
    "    def extract(self, images):\n",
    "        features = self.model(images)\n",
    "        pooled_features = self.pooling(features).flatten(1)\n",
    "        embedding = self.embedding(pooled_features)\n",
    "        return embedding\n",
    "\n",
    "    \n",
    "model = HappyWhaleModel(CONFIG['model_name'], CONFIG['embedding_size'])\n",
    "model.to(CONFIG['device']);"
   ]
  },
  {
   "cell_type": "markdown",
   "metadata": {},
   "source": [
    "# <span><h1 style = \"font-family: garamond; font-size: 40px; font-style: normal; letter-spcaing: 3px; background-color: #f6f5f5; color :#fe346e; border-radius: 100px 100px; text-align:center\">Loss Function</h1></span>"
   ]
  },
  {
   "cell_type": "code",
   "execution_count": 37,
   "metadata": {
    "execution": {
     "iopub.execute_input": "2022-02-21T20:22:11.926887Z",
     "iopub.status.busy": "2022-02-21T20:22:11.926622Z",
     "iopub.status.idle": "2022-02-21T20:22:11.931342Z",
     "shell.execute_reply": "2022-02-21T20:22:11.930590Z",
     "shell.execute_reply.started": "2022-02-21T20:22:11.926853Z"
    }
   },
   "outputs": [],
   "source": [
    "def criterion(outputs, labels):\n",
    "    return nn.CrossEntropyLoss()(outputs, labels)"
   ]
  },
  {
   "cell_type": "markdown",
   "metadata": {},
   "source": [
    "# <span><h1 style = \"font-family: garamond; font-size: 40px; font-style: normal; letter-spcaing: 3px; background-color: #f6f5f5; color :#fe346e; border-radius: 100px 100px; text-align:center\">Training Function</h1></span>"
   ]
  },
  {
   "cell_type": "code",
   "execution_count": 38,
   "metadata": {
    "execution": {
     "iopub.execute_input": "2022-02-21T20:22:11.934076Z",
     "iopub.status.busy": "2022-02-21T20:22:11.932816Z",
     "iopub.status.idle": "2022-02-21T20:22:11.950077Z",
     "shell.execute_reply": "2022-02-21T20:22:11.949201Z",
     "shell.execute_reply.started": "2022-02-21T20:22:11.934039Z"
    }
   },
   "outputs": [],
   "source": [
    "def train_one_epoch(model, optimizer, scheduler, dataloader, device, epoch):\n",
    "    model.train()\n",
    "    \n",
    "    dataset_size = 0\n",
    "    running_loss = 0.0\n",
    "    \n",
    "    bar = tqdm(enumerate(dataloader), total=len(dataloader))\n",
    "    for step, data in bar:\n",
    "        images = data['image'].to(device, dtype=torch.float)\n",
    "        labels = data['label'].to(device, dtype=torch.long)\n",
    "        \n",
    "        batch_size = images.size(0)\n",
    "        \n",
    "        outputs = model(images, labels)\n",
    "        loss = criterion(outputs, labels)\n",
    "        loss = loss / CONFIG['n_accumulate']\n",
    "            \n",
    "        loss.backward()\n",
    "    \n",
    "        if (step + 1) % CONFIG['n_accumulate'] == 0:\n",
    "            optimizer.step()\n",
    "\n",
    "            # zero the parameter gradients\n",
    "            optimizer.zero_grad()\n",
    "\n",
    "            if scheduler is not None:\n",
    "                scheduler.step()\n",
    "                \n",
    "        running_loss += (loss.item() * batch_size)\n",
    "        dataset_size += batch_size\n",
    "        \n",
    "        epoch_loss = running_loss / dataset_size\n",
    "        \n",
    "        bar.set_postfix(Epoch=epoch, Train_Loss=epoch_loss,\n",
    "                        LR=optimizer.param_groups[0]['lr'])\n",
    "    gc.collect()\n",
    "    \n",
    "    return epoch_loss"
   ]
  },
  {
   "cell_type": "markdown",
   "metadata": {},
   "source": [
    "# <span><h1 style = \"font-family: garamond; font-size: 40px; font-style: normal; letter-spcaing: 3px; background-color: #f6f5f5; color :#fe346e; border-radius: 100px 100px; text-align:center\">Validation Function</h1></span>"
   ]
  },
  {
   "cell_type": "code",
   "execution_count": 39,
   "metadata": {
    "execution": {
     "iopub.execute_input": "2022-02-21T20:22:11.953398Z",
     "iopub.status.busy": "2022-02-21T20:22:11.953202Z",
     "iopub.status.idle": "2022-02-21T20:22:11.963536Z",
     "shell.execute_reply": "2022-02-21T20:22:11.962798Z",
     "shell.execute_reply.started": "2022-02-21T20:22:11.953369Z"
    }
   },
   "outputs": [],
   "source": [
    "@torch.inference_mode()\n",
    "def valid_one_epoch(model, dataloader, device, epoch):\n",
    "    model.eval()\n",
    "    \n",
    "    dataset_size = 0\n",
    "    running_loss = 0.0\n",
    "    \n",
    "    bar = tqdm(enumerate(dataloader), total=len(dataloader))\n",
    "    for step, data in bar:        \n",
    "        images = data['image'].to(device, dtype=torch.float)\n",
    "        labels = data['label'].to(device, dtype=torch.long)\n",
    "        \n",
    "        batch_size = images.size(0)\n",
    "\n",
    "        outputs = model(images, labels)\n",
    "        loss = criterion(outputs, labels)\n",
    "        \n",
    "        running_loss += (loss.item() * batch_size)\n",
    "        dataset_size += batch_size\n",
    "        \n",
    "        epoch_loss = running_loss / dataset_size\n",
    "        \n",
    "        bar.set_postfix(Epoch=epoch, Valid_Loss=epoch_loss,\n",
    "                        LR=optimizer.param_groups[0]['lr'])   \n",
    "    \n",
    "    gc.collect()\n",
    "    \n",
    "    return epoch_loss"
   ]
  },
  {
   "cell_type": "markdown",
   "metadata": {},
   "source": [
    "# <span><h1 style = \"font-family: garamond; font-size: 40px; font-style: normal; letter-spcaing: 3px; background-color: #f6f5f5; color :#fe346e; border-radius: 100px 100px; text-align:center\">Run Training</h1></span>"
   ]
  },
  {
   "cell_type": "code",
   "execution_count": 40,
   "metadata": {
    "execution": {
     "iopub.execute_input": "2022-02-21T20:22:11.966828Z",
     "iopub.status.busy": "2022-02-21T20:22:11.966278Z",
     "iopub.status.idle": "2022-02-21T20:22:11.978974Z",
     "shell.execute_reply": "2022-02-21T20:22:11.978096Z",
     "shell.execute_reply.started": "2022-02-21T20:22:11.966790Z"
    }
   },
   "outputs": [],
   "source": [
    "def run_training(model, optimizer, scheduler, device, num_epochs):\n",
    "    # To automatically log gradients\n",
    "    wandb.watch(model, log_freq=100)\n",
    "    \n",
    "    if torch.cuda.is_available():\n",
    "        print(\"[INFO] Using GPU: {}\\n\".format(torch.cuda.get_device_name()))\n",
    "    \n",
    "    start = time.time()\n",
    "    best_model_wts = copy.deepcopy(model.state_dict())\n",
    "    best_epoch_loss = np.inf\n",
    "    history = defaultdict(list)\n",
    "    \n",
    "    for epoch in range(1, num_epochs + 1): \n",
    "        gc.collect()\n",
    "        train_epoch_loss = train_one_epoch(model, optimizer, scheduler, \n",
    "                                           dataloader=train_loader, \n",
    "                                           device=CONFIG['device'], epoch=epoch)\n",
    "        \n",
    "        val_epoch_loss = valid_one_epoch(model, valid_loader, device=CONFIG['device'], \n",
    "                                         epoch=epoch)\n",
    "    \n",
    "        history['Train Loss'].append(train_epoch_loss)\n",
    "        history['Valid Loss'].append(val_epoch_loss)\n",
    "        \n",
    "        # Log the metrics\n",
    "        wandb.log({\"Train Loss\": train_epoch_loss})\n",
    "        wandb.log({\"Valid Loss\": val_epoch_loss})\n",
    "        \n",
    "        # deep copy the model\n",
    "        if val_epoch_loss <= best_epoch_loss:\n",
    "            print(f\"{b_}Validation Loss Improved ({best_epoch_loss} ---> {val_epoch_loss})\")\n",
    "            best_epoch_loss = val_epoch_loss\n",
    "            run.summary[\"Best Loss\"] = best_epoch_loss\n",
    "            best_model_wts = copy.deepcopy(model.state_dict())\n",
    "            PATH = \"Loss{:.4f}_epoch{:.0f}.bin\".format(best_epoch_loss, epoch)\n",
    "            torch.save(model.state_dict(), PATH)\n",
    "            # Save a model file from the current directory\n",
    "            print(f\"Model Saved{sr_}\")\n",
    "            \n",
    "        print()\n",
    "    \n",
    "    end = time.time()\n",
    "    time_elapsed = end - start\n",
    "    print('Training complete in {:.0f}h {:.0f}m {:.0f}s'.format(\n",
    "        time_elapsed // 3600, (time_elapsed % 3600) // 60, (time_elapsed % 3600) % 60))\n",
    "    print(\"Best Loss: {:.4f}\".format(best_epoch_loss))\n",
    "    \n",
    "    # load best model weights\n",
    "    model.load_state_dict(best_model_wts)\n",
    "    \n",
    "    return model, history"
   ]
  },
  {
   "cell_type": "code",
   "execution_count": 41,
   "metadata": {
    "execution": {
     "iopub.execute_input": "2022-02-21T20:22:11.980454Z",
     "iopub.status.busy": "2022-02-21T20:22:11.980044Z",
     "iopub.status.idle": "2022-02-21T20:22:11.992164Z",
     "shell.execute_reply": "2022-02-21T20:22:11.991370Z",
     "shell.execute_reply.started": "2022-02-21T20:22:11.980395Z"
    }
   },
   "outputs": [],
   "source": [
    "def fetch_scheduler(optimizer):\n",
    "    if CONFIG['scheduler'] == 'CosineAnnealingLR':\n",
    "        scheduler = lr_scheduler.CosineAnnealingLR(optimizer,T_max=CONFIG['T_max'], \n",
    "                                                   eta_min=CONFIG['min_lr'])\n",
    "    elif CONFIG['scheduler'] == 'CosineAnnealingWarmRestarts':\n",
    "        scheduler = lr_scheduler.CosineAnnealingWarmRestarts(optimizer,T_0=CONFIG['T_0'], \n",
    "                                                             eta_min=CONFIG['min_lr'])\n",
    "    elif CONFIG['scheduler'] == None:\n",
    "        return None\n",
    "        \n",
    "    return scheduler"
   ]
  },
  {
   "cell_type": "code",
   "execution_count": 42,
   "metadata": {
    "execution": {
     "iopub.execute_input": "2022-02-21T20:22:11.995858Z",
     "iopub.status.busy": "2022-02-21T20:22:11.993291Z",
     "iopub.status.idle": "2022-02-21T20:22:12.003196Z",
     "shell.execute_reply": "2022-02-21T20:22:12.002440Z",
     "shell.execute_reply.started": "2022-02-21T20:22:11.995823Z"
    }
   },
   "outputs": [],
   "source": [
    "def prepare_loaders(df, fold):\n",
    "    df_train = df[df.kfold != fold].reset_index(drop=True)\n",
    "    df_valid = df[df.kfold == fold].reset_index(drop=True)\n",
    "    \n",
    "    train_dataset = HappyWhaleDataset(df_train, transforms=data_transforms[\"train\"])\n",
    "    valid_dataset = HappyWhaleDataset(df_valid, transforms=data_transforms[\"valid\"])\n",
    "\n",
    "    train_loader = DataLoader(train_dataset, batch_size=CONFIG['train_batch_size'], \n",
    "                              num_workers=2, shuffle=True, pin_memory=True, drop_last=True)\n",
    "    valid_loader = DataLoader(valid_dataset, batch_size=CONFIG['valid_batch_size'], \n",
    "                              num_workers=2, shuffle=False, pin_memory=True)\n",
    "    \n",
    "    return train_loader, valid_loader"
   ]
  },
  {
   "cell_type": "markdown",
   "metadata": {},
   "source": [
    "<span style=\"color: #000508; font-family: Segoe UI; font-size: 1.5em; font-weight: 300;\">Prepare Dataloaders</span>"
   ]
  },
  {
   "cell_type": "code",
   "execution_count": 43,
   "metadata": {
    "execution": {
     "iopub.execute_input": "2022-02-21T20:22:12.004720Z",
     "iopub.status.busy": "2022-02-21T20:22:12.004457Z",
     "iopub.status.idle": "2022-02-21T20:22:12.024517Z",
     "shell.execute_reply": "2022-02-21T20:22:12.023870Z",
     "shell.execute_reply.started": "2022-02-21T20:22:12.004683Z"
    }
   },
   "outputs": [],
   "source": [
    "train_loader, valid_loader = prepare_loaders(df, fold=0)"
   ]
  },
  {
   "cell_type": "markdown",
   "metadata": {},
   "source": [
    "<span style=\"color: #000508; font-family: Segoe UI; font-size: 1.5em; font-weight: 300;\">Define Optimizer and Scheduler</span>"
   ]
  },
  {
   "cell_type": "code",
   "execution_count": 44,
   "metadata": {
    "execution": {
     "iopub.execute_input": "2022-02-21T20:22:12.027877Z",
     "iopub.status.busy": "2022-02-21T20:22:12.027098Z",
     "iopub.status.idle": "2022-02-21T20:22:12.033693Z",
     "shell.execute_reply": "2022-02-21T20:22:12.032802Z",
     "shell.execute_reply.started": "2022-02-21T20:22:12.027839Z"
    }
   },
   "outputs": [],
   "source": [
    "optimizer = optim.Adam(model.parameters(), lr=CONFIG['learning_rate'], \n",
    "                       weight_decay=CONFIG['weight_decay'])\n",
    "scheduler = fetch_scheduler(optimizer)"
   ]
  },
  {
   "cell_type": "markdown",
   "metadata": {},
   "source": [
    "<span style=\"color: #000508; font-family: Segoe UI; font-size: 1.5em; font-weight: 300;\">Start Training</span>"
   ]
  },
  {
   "cell_type": "code",
   "execution_count": 24,
   "metadata": {
    "execution": {
     "iopub.execute_input": "2022-02-21T20:22:12.035535Z",
     "iopub.status.busy": "2022-02-21T20:22:12.034770Z",
     "iopub.status.idle": "2022-02-21T20:22:18.862330Z",
     "shell.execute_reply": "2022-02-21T20:22:18.861626Z",
     "shell.execute_reply.started": "2022-02-21T20:22:12.035499Z"
    }
   },
   "outputs": [
    {
     "name": "stderr",
     "output_type": "stream",
     "text": [
      "\u001b[34m\u001b[1mwandb\u001b[0m: Currently logged in as: \u001b[33mdchanda\u001b[0m (use `wandb login --relogin` to force relogin)\n"
     ]
    },
    {
     "data": {
      "text/html": [
       "\n",
       "                    Syncing run <strong><a href=\"https://wandb.ai/dchanda/HappyWhale/runs/3l3k91tm\" target=\"_blank\">peachy-paper-6</a></strong> to <a href=\"https://wandb.ai/dchanda/HappyWhale\" target=\"_blank\">Weights & Biases</a> (<a href=\"https://docs.wandb.com/integrations/jupyter.html\" target=\"_blank\">docs</a>).<br/>\n",
       "\n",
       "                "
      ],
      "text/plain": [
       "<IPython.core.display.HTML object>"
      ]
     },
     "metadata": {},
     "output_type": "display_data"
    }
   ],
   "source": [
    "run = wandb.init(project='HappyWhale', \n",
    "                 config=CONFIG,\n",
    "                 job_type='Train',\n",
    "                 tags=['arcface', 'gem-pooling', 'effnet-b0-ns', '448'],\n",
    "                 anonymous='must')"
   ]
  },
  {
   "cell_type": "code",
   "execution_count": 25,
   "metadata": {
    "execution": {
     "iopub.execute_input": "2022-02-21T20:22:18.865911Z",
     "iopub.status.busy": "2022-02-21T20:22:18.865367Z",
     "iopub.status.idle": "2022-02-22T00:17:06.081135Z",
     "shell.execute_reply": "2022-02-22T00:17:06.080226Z",
     "shell.execute_reply.started": "2022-02-21T20:22:18.865874Z"
    }
   },
   "outputs": [
    {
     "name": "stdout",
     "output_type": "stream",
     "text": [
      "[INFO] Using GPU: Tesla P100-PCIE-16GB\n",
      "\n"
     ]
    },
    {
     "name": "stderr",
     "output_type": "stream",
     "text": [
      "100%|██████████| 1275/1275 [47:45<00:00,  2.25s/it, Epoch=1, LR=4.28e-5, Train_Loss=22.2]\n",
      "100%|██████████| 160/160 [10:30<00:00,  3.94s/it, Epoch=1, LR=4.28e-5, Valid_Loss=19.1]\n"
     ]
    },
    {
     "name": "stdout",
     "output_type": "stream",
     "text": [
      "\u001b[34mValidation Loss Improved (inf ---> 19.062501627796017)\n",
      "Model Saved\u001b[0m\n",
      "\n"
     ]
    },
    {
     "name": "stderr",
     "output_type": "stream",
     "text": [
      "100%|██████████| 1275/1275 [47:49<00:00,  2.25s/it, Epoch=2, LR=3.42e-6, Train_Loss=17.7]\n",
      "100%|██████████| 160/160 [10:36<00:00,  3.98s/it, Epoch=2, LR=3.42e-6, Valid_Loss=17.2]\n"
     ]
    },
    {
     "name": "stdout",
     "output_type": "stream",
     "text": [
      "\u001b[34mValidation Loss Improved (19.062501627796017 ---> 17.23617388819742)\n",
      "Model Saved\u001b[0m\n",
      "\n"
     ]
    },
    {
     "name": "stderr",
     "output_type": "stream",
     "text": [
      "100%|██████████| 1275/1275 [48:17<00:00,  2.27s/it, Epoch=3, LR=7.3e-5, Train_Loss=14.8] \n",
      "100%|██████████| 160/160 [10:38<00:00,  3.99s/it, Epoch=3, LR=7.3e-5, Valid_Loss=15]  \n"
     ]
    },
    {
     "name": "stdout",
     "output_type": "stream",
     "text": [
      "\u001b[34mValidation Loss Improved (17.23617388819742 ---> 14.97029778211535)\n",
      "Model Saved\u001b[0m\n",
      "\n"
     ]
    },
    {
     "name": "stderr",
     "output_type": "stream",
     "text": [
      "100%|██████████| 1275/1275 [48:23<00:00,  2.28s/it, Epoch=4, LR=9.05e-5, Train_Loss=14.8]\n",
      "100%|██████████| 160/160 [10:41<00:00,  4.01s/it, Epoch=4, LR=9.05e-5, Valid_Loss=14.9]\n"
     ]
    },
    {
     "name": "stdout",
     "output_type": "stream",
     "text": [
      "\u001b[34mValidation Loss Improved (14.97029778211535 ---> 14.899353628680862)\n",
      "Model Saved\u001b[0m\n",
      "\n",
      "Training complete in 3h 54m 47s\n",
      "Best Loss: 14.8994\n"
     ]
    }
   ],
   "source": [
    "model, history = run_training(model, optimizer, scheduler,\n",
    "                              device=CONFIG['device'],\n",
    "                              num_epochs=CONFIG['epochs'])"
   ]
  },
  {
   "cell_type": "code",
   "execution_count": 26,
   "metadata": {
    "execution": {
     "iopub.execute_input": "2022-02-22T00:17:06.082858Z",
     "iopub.status.busy": "2022-02-22T00:17:06.082558Z",
     "iopub.status.idle": "2022-02-22T00:17:12.692443Z",
     "shell.execute_reply": "2022-02-22T00:17:12.691679Z",
     "shell.execute_reply.started": "2022-02-22T00:17:06.082818Z"
    }
   },
   "outputs": [
    {
     "data": {
      "text/html": [
       "<br/>Waiting for W&B process to finish, PID 111... <strong style=\"color:green\">(success).</strong>"
      ],
      "text/plain": [
       "<IPython.core.display.HTML object>"
      ]
     },
     "metadata": {},
     "output_type": "display_data"
    },
    {
     "data": {
      "application/vnd.jupyter.widget-view+json": {
       "model_id": "",
       "version_major": 2,
       "version_minor": 0
      },
      "text/plain": [
       "VBox(children=(Label(value=' 0.00MB of 0.00MB uploaded (0.00MB deduped)\\r'), FloatProgress(value=1.0, max=1.0)…"
      ]
     },
     "metadata": {},
     "output_type": "display_data"
    },
    {
     "data": {
      "text/html": [
       "<style>\n",
       "    table.wandb td:nth-child(1) { padding: 0 10px; text-align: right }\n",
       "    .wandb-row { display: flex; flex-direction: row; flex-wrap: wrap; width: 100% }\n",
       "    .wandb-col { display: flex; flex-direction: column; flex-basis: 100%; flex: 1; padding: 10px; }\n",
       "    </style>\n",
       "<div class=\"wandb-row\"><div class=\"wandb-col\">\n",
       "<h3>Run history:</h3><br/><table class=\"wandb\"><tr><td>Train Loss</td><td>█▄▁▁</td></tr><tr><td>Valid Loss</td><td>█▅▁▁</td></tr></table><br/></div><div class=\"wandb-col\">\n",
       "<h3>Run summary:</h3><br/><table class=\"wandb\"><tr><td>Best Loss</td><td>14.89935</td></tr><tr><td>Train Loss</td><td>14.79472</td></tr><tr><td>Valid Loss</td><td>14.89935</td></tr></table>\n",
       "</div></div>\n",
       "Synced 5 W&B file(s), 0 media file(s), 0 artifact file(s) and 0 other file(s)\n",
       "<br/>Synced <strong style=\"color:#cdcd00\">peachy-paper-6</strong>: <a href=\"https://wandb.ai/dchanda/HappyWhale/runs/3l3k91tm\" target=\"_blank\">https://wandb.ai/dchanda/HappyWhale/runs/3l3k91tm</a><br/>\n",
       "Find logs at: <code>./wandb/run-20220221_202212-3l3k91tm/logs</code><br/>\n"
      ],
      "text/plain": [
       "<IPython.core.display.HTML object>"
      ]
     },
     "metadata": {},
     "output_type": "display_data"
    }
   ],
   "source": [
    "run.finish()"
   ]
  },
  {
   "cell_type": "markdown",
   "metadata": {},
   "source": [
    "# <h1 style = \"font-family: garamond; font-size: 40px; font-style: normal; letter-spcaing: 3px; background-color: #f6f5f5; color :#fe346e; border-radius: 100px 100px; text-align:center\">Visualizations</h1>\n",
    "\n",
    "<span style=\"color: #000508; font-family: Segoe UI; font-size: 1.5em; font-weight: 300;\"><a href=\"https://wandb.ai/dchanda/HappyWhale/runs/3l3k91tm\">View the Complete Dashboard Here ⮕</a></span>"
   ]
  },
  {
   "cell_type": "markdown",
   "metadata": {},
   "source": [
    "![](https://i.imgur.com/3Cc8KBH.jpg)"
   ]
  },
  {
   "cell_type": "markdown",
   "metadata": {},
   "source": [
    "![Upvote!](https://img.shields.io/badge/Upvote-If%20you%20like%20my%20work-07b3c8?style=for-the-badge&logo=kaggle)"
   ]
  }
 ],
 "metadata": {
  "kernelspec": {
   "display_name": "Python 3 (ipykernel)",
   "language": "python",
   "name": "python3"
  },
  "language_info": {
   "codemirror_mode": {
    "name": "ipython",
    "version": 3
   },
   "file_extension": ".py",
   "mimetype": "text/x-python",
   "name": "python",
   "nbconvert_exporter": "python",
   "pygments_lexer": "ipython3",
   "version": "3.9.7"
  }
 },
 "nbformat": 4,
 "nbformat_minor": 4
}
